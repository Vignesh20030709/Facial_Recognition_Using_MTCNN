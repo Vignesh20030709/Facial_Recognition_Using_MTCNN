{
 "cells": [
  {
   "cell_type": "code",
   "execution_count": 1,
   "id": "a7ac3716",
   "metadata": {},
   "outputs": [],
   "source": [
    "# importing libraries\n",
    "from facenet_pytorch import MTCNN, InceptionResnetV1\n",
    "import torch\n",
    "from torchvision import datasets\n",
    "from torch.utils.data import DataLoader\n",
    "from PIL import Image\n",
    "import cv2\n",
    "import time\n",
    "import os"
   ]
  },
  {
   "cell_type": "code",
   "execution_count": 2,
   "id": "e3d8ed15",
   "metadata": {},
   "outputs": [],
   "source": [
    "# initializing MTCNN and InceptionResnetv1\n",
    "mtcnn0 = MTCNN(image_size=240, margin=0, keep_all=False, min_face_size=40)\n",
    "mtcnn = MTCNN(image_size=240, margin=0, keep_all=True, min_face_size=40)\n",
    "resnet =InceptionResnetV1(pretrained='vggface2').eval()"
   ]
  },
  {
   "cell_type": "code",
   "execution_count": 3,
   "id": "9dbb0305",
   "metadata": {},
   "outputs": [],
   "source": [
    "# Read data from folder\n",
    "\n",
    "dataset = datasets.ImageFolder(\"photos\")# photos folder path \n",
    "idx_to_class = {i:c for c,i in dataset.class_to_idx.items()} # accessing names of peoples from folder names\n",
    "\n",
    "def collate_fn(x):\n",
    "    return x[0]\n",
    "\n",
    "loader = DataLoader(dataset, collate_fn=collate_fn)\n",
    "\n",
    "name_list = [] # list of names corrospoing to cropped photos\n",
    "embedding_list = [] # list of embeding matrix after conversion from cropped faces to embedding matrix using resnet\n",
    "\n",
    "for img, idx in loader:\n",
    "    face, prob = mtcnn0(img, return_prob=True) \n",
    "    if face is not None and prob>0.92:\n",
    "        emb = resnet(face.unsqueeze(0)) \n",
    "        embedding_list.append(emb.detach()) \n",
    "        name_list.append(idx_to_class[idx])        \n",
    "\n",
    "# save data\n",
    "data = [embedding_list, name_list] \n",
    "torch.save(data, 'data.pt') # saving data.pt file"
   ]
  },
  {
   "cell_type": "code",
   "execution_count": 4,
   "id": "d54177de",
   "metadata": {},
   "outputs": [],
   "source": [
    "# Using webcam recognize face\n",
    "\n",
    "# loading data.pt file\n",
    "load_data = torch.load('data.pt') \n",
    "embedding_list = load_data[0] \n",
    "name_list = load_data[1] \n",
    "\n",
    "cam = cv2.VideoCapture(0) \n",
    "\n",
    "while True:\n",
    "    ret, frame = cam.read()\n",
    "    if not ret:\n",
    "        print(\"fail to grab frame, try again\")\n",
    "        break\n",
    "        \n",
    "    img = Image.fromarray(frame)\n",
    "    img_cropped_list, prob_list = mtcnn(img, return_prob=True) \n",
    "    \n",
    "    if img_cropped_list is not None:\n",
    "        boxes, _ = mtcnn.detect(img)\n",
    "                \n",
    "        for i, prob in enumerate(prob_list):\n",
    "            if prob>0.90:\n",
    "                emb = resnet(img_cropped_list[i].unsqueeze(0)).detach() \n",
    "                \n",
    "                dist_list = [] # list of matched distances, minimum distance is used to identify the person\n",
    "                \n",
    "                for idx, emb_db in enumerate(embedding_list):\n",
    "                    dist = torch.dist(emb, emb_db).item()\n",
    "                    dist_list.append(dist)\n",
    "\n",
    "                min_dist = min(dist_list) # get minumum dist value\n",
    "                min_dist_idx = dist_list.index(min_dist) # get minumum dist index\n",
    "                name = name_list[min_dist_idx] # get name corrosponding to minimum dist\n",
    "                \n",
    "                box = boxes[i] \n",
    "                \n",
    "                original_frame = frame.copy() # storing copy of frame before drawing on it\n",
    "                \n",
    "                if min_dist<0.90:\n",
    "                    frame = cv2.putText(frame, name+' '+str(min_dist), (int(box[0]),int(box[1])), cv2.FONT_HERSHEY_SIMPLEX, 1, (0,255,0),1, cv2.LINE_AA)\n",
    "                \n",
    "                frame = cv2.rectangle(frame, (int(box[0]),int(box[1])) , (int(box[2]),int(box[3])), (255,0,0), 2)\n",
    "\n",
    "    cv2.imshow(\"Output\", frame)\n",
    "        \n",
    "    \n",
    "    k = cv2.waitKey(1)\n",
    "    if k%256==27: # ESC\n",
    "        break\n",
    "        \n",
    "        # create directory if not exists\n",
    "        if not os.path.exists('photos/'+name):\n",
    "            os.mkdir('photos/'+name)\n",
    "            \n",
    "        img_name = \"photos/{}/{}.jpg\".format(name, int(time.time()))\n",
    "        cv2.imwrite(img_name, original_frame)\n",
    "        print(\" saved: {}\".format(img_name))\n",
    "        \n",
    "        \n",
    "cam.release()\n",
    "cv2.destroyAllWindows()"
   ]
  },
  {
   "cell_type": "code",
   "execution_count": 5,
   "id": "991f9b5b",
   "metadata": {},
   "outputs": [
    {
     "name": "stdout",
     "output_type": "stream",
     "text": [
      "Requirement already satisfied: facenet-pytorch in c:\\users\\msi\\anaconda3\\lib\\site-packages (2.5.3)Note: you may need to restart the kernel to use updated packages.\n",
      "\n",
      "Requirement already satisfied: numpy in c:\\users\\msi\\anaconda3\\lib\\site-packages (from facenet-pytorch) (1.24.3)\n",
      "Requirement already satisfied: requests in c:\\users\\msi\\anaconda3\\lib\\site-packages (from facenet-pytorch) (2.31.0)\n",
      "Requirement already satisfied: torchvision in c:\\users\\msi\\anaconda3\\lib\\site-packages (from facenet-pytorch) (0.16.0)\n",
      "Requirement already satisfied: pillow in c:\\users\\msi\\anaconda3\\lib\\site-packages (from facenet-pytorch) (9.4.0)\n",
      "Requirement already satisfied: charset-normalizer<4,>=2 in c:\\users\\msi\\anaconda3\\lib\\site-packages (from requests->facenet-pytorch) (2.0.4)\n",
      "Requirement already satisfied: idna<4,>=2.5 in c:\\users\\msi\\anaconda3\\lib\\site-packages (from requests->facenet-pytorch) (3.4)\n",
      "Requirement already satisfied: urllib3<3,>=1.21.1 in c:\\users\\msi\\anaconda3\\lib\\site-packages (from requests->facenet-pytorch) (1.26.16)\n",
      "Requirement already satisfied: certifi>=2017.4.17 in c:\\users\\msi\\anaconda3\\lib\\site-packages (from requests->facenet-pytorch) (2023.7.22)\n",
      "Requirement already satisfied: torch==2.1.0 in c:\\users\\msi\\anaconda3\\lib\\site-packages (from torchvision->facenet-pytorch) (2.1.0)\n",
      "Requirement already satisfied: filelock in c:\\users\\msi\\anaconda3\\lib\\site-packages (from torch==2.1.0->torchvision->facenet-pytorch) (3.9.0)\n",
      "Requirement already satisfied: typing-extensions in c:\\users\\msi\\anaconda3\\lib\\site-packages (from torch==2.1.0->torchvision->facenet-pytorch) (4.7.1)\n",
      "Requirement already satisfied: sympy in c:\\users\\msi\\anaconda3\\lib\\site-packages (from torch==2.1.0->torchvision->facenet-pytorch) (1.11.1)\n",
      "Requirement already satisfied: networkx in c:\\users\\msi\\anaconda3\\lib\\site-packages (from torch==2.1.0->torchvision->facenet-pytorch) (3.1)\n",
      "Requirement already satisfied: jinja2 in c:\\users\\msi\\anaconda3\\lib\\site-packages (from torch==2.1.0->torchvision->facenet-pytorch) (3.1.2)\n",
      "Requirement already satisfied: fsspec in c:\\users\\msi\\anaconda3\\lib\\site-packages (from torch==2.1.0->torchvision->facenet-pytorch) (2023.3.0)\n",
      "Requirement already satisfied: MarkupSafe>=2.0 in c:\\users\\msi\\anaconda3\\lib\\site-packages (from jinja2->torch==2.1.0->torchvision->facenet-pytorch) (2.1.1)\n",
      "Requirement already satisfied: mpmath>=0.19 in c:\\users\\msi\\anaconda3\\lib\\site-packages (from sympy->torch==2.1.0->torchvision->facenet-pytorch) (1.3.0)\n"
     ]
    }
   ],
   "source": [
    "pip install facenet-pytorch"
   ]
  },
  {
   "cell_type": "code",
   "execution_count": 6,
   "id": "42e57069",
   "metadata": {},
   "outputs": [
    {
     "name": "stdout",
     "output_type": "stream",
     "text": [
      "Requirement already satisfied: opencv-python in c:\\users\\msi\\anaconda3\\lib\\site-packages (4.8.1.78)\n",
      "Requirement already satisfied: numpy>=1.21.2 in c:\\users\\msi\\anaconda3\\lib\\site-packages (from opencv-python) (1.24.3)\n"
     ]
    }
   ],
   "source": [
    "!pip install opencv-python\n"
   ]
  },
  {
   "cell_type": "code",
   "execution_count": null,
   "id": "87812af9",
   "metadata": {},
   "outputs": [],
   "source": []
  },
  {
   "cell_type": "code",
   "execution_count": null,
   "id": "21d45bd0",
   "metadata": {},
   "outputs": [],
   "source": []
  }
 ],
 "metadata": {
  "kernelspec": {
   "display_name": "Python 3 (ipykernel)",
   "language": "python",
   "name": "python3"
  },
  "language_info": {
   "codemirror_mode": {
    "name": "ipython",
    "version": 3
   },
   "file_extension": ".py",
   "mimetype": "text/x-python",
   "name": "python",
   "nbconvert_exporter": "python",
   "pygments_lexer": "ipython3",
   "version": "3.11.4"
  }
 },
 "nbformat": 4,
 "nbformat_minor": 5
}
